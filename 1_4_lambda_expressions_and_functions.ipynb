{
  "cells": [
    {
      "cell_type": "markdown",
      "metadata": {
        "id": "view-in-github",
        "colab_type": "text"
      },
      "source": [
        "<a href=\"https://colab.research.google.com/github/dsteberg1/dylanstebergmodule1_lectures/blob/main/1_4_lambda_expressions_and_functions.ipynb\" target=\"_parent\"><img src=\"https://colab.research.google.com/assets/colab-badge.svg\" alt=\"Open In Colab\"/></a>"
      ]
    },
    {
      "cell_type": "markdown",
      "metadata": {
        "nbpresent": {
          "id": "72b0ede6-af2b-41e9-81af-16c345e658d3"
        },
        "id": "odchXxdHkz2T"
      },
      "source": [
        "# Lambda Expressions and Functions\n",
        "\n",
        "## Objectives\n",
        "\n",
        "1. Use variables to make expressions more readable\n",
        "2. Introduce the `lambda` expression for reusing expressions\n",
        "3. Writing more complicated functions with the `def` statement"
      ]
    },
    {
      "cell_type": "markdown",
      "metadata": {
        "nbpresent": {
          "id": "1a11188f-9efb-4909-b63f-fa5d6ed1628a"
        },
        "id": "IsBivZHrkz2b"
      },
      "source": [
        "## The `lambda` expression\n",
        "\n",
        "* Allows reuse of expressions\n",
        "* Variables become **Parameters**\n",
        "    * insert values later"
      ]
    },
    {
      "cell_type": "markdown",
      "metadata": {
        "nbpresent": {
          "id": "a59a0a0b-3a93-41e6-b1bd-b9c856d68106"
        },
        "id": "UazTzEnLkz2c"
      },
      "source": [
        "## The `lambda` syntax\n",
        "\n",
        "<img src=\"https://github.com/dsteberg1/dylanstebergmodule1_lectures/blob/main/img/lambda_syntax.png?raw=1\"/>"
      ]
    },
    {
      "cell_type": "code",
      "execution_count": 1,
      "metadata": {
        "nbpresent": {
          "id": "12154f73-b113-47f0-a659-899c3c2e9cda"
        },
        "id": "33sMiu1Fkz2c"
      },
      "outputs": [],
      "source": [
        "f = lambda x: x**2"
      ]
    },
    {
      "cell_type": "code",
      "execution_count": 2,
      "metadata": {
        "nbpresent": {
          "id": "12154f73-b113-47f0-a659-899c3c2e9cda"
        },
        "id": "u2SdiyBlkz2d",
        "outputId": "e6d8e9f5-1bf0-47eb-c915-6687da956728",
        "colab": {
          "base_uri": "https://localhost:8080/"
        }
      },
      "outputs": [
        {
          "output_type": "execute_result",
          "data": {
            "text/plain": [
              "4"
            ]
          },
          "metadata": {},
          "execution_count": 2
        }
      ],
      "source": [
        "f = lambda x: x**2\n",
        "f(2)"
      ]
    },
    {
      "cell_type": "markdown",
      "metadata": {
        "id": "4Dw0hQflkz2f"
      },
      "source": [
        "## Evaluating `lambda` expressions\n",
        "\n",
        "<img src=\"https://github.com/dsteberg1/dylanstebergmodule1_lectures/blob/main/img/lambda_evaluation.png?raw=1\" width=400/>"
      ]
    },
    {
      "cell_type": "markdown",
      "metadata": {
        "nbpresent": {
          "id": "a59a0a0b-3a93-41e6-b1bd-b9c856d68106"
        },
        "id": "KT_gkT77kz2g"
      },
      "source": [
        "## The `lambda` expression\n",
        "\n",
        "* The *type* of a `lambda` is the type `function`\n",
        "* The *value* of a `lambda` expression is actual function\n",
        "* Remember\n",
        "    * `lambda` MAKES the function\n",
        "    * Use function call to execute the function"
      ]
    },
    {
      "cell_type": "code",
      "execution_count": 3,
      "metadata": {
        "id": "-08_BEsSkz2h",
        "outputId": "5ecced63-7ed0-4bd7-fd27-1803d1ac1d05",
        "colab": {
          "base_uri": "https://localhost:8080/"
        }
      },
      "outputs": [
        {
          "output_type": "execute_result",
          "data": {
            "text/plain": [
              "<function __main__.<lambda>(x)>"
            ]
          },
          "metadata": {},
          "execution_count": 3
        }
      ],
      "source": [
        "f"
      ]
    },
    {
      "cell_type": "code",
      "execution_count": 4,
      "metadata": {
        "nbpresent": {
          "id": "12154f73-b113-47f0-a659-899c3c2e9cda"
        },
        "id": "o4S0Kq0qkz2i",
        "outputId": "3ca8b786-0e47-4408-8cf9-ef4af6a09800",
        "colab": {
          "base_uri": "https://localhost:8080/"
        }
      },
      "outputs": [
        {
          "output_type": "execute_result",
          "data": {
            "text/plain": [
              "function"
            ]
          },
          "metadata": {},
          "execution_count": 4
        }
      ],
      "source": [
        "type(f)"
      ]
    },
    {
      "cell_type": "markdown",
      "metadata": {
        "id": "6bPgudgKkz2k"
      },
      "source": [
        "## Calling a lambda expression in the usual way"
      ]
    },
    {
      "cell_type": "code",
      "execution_count": 5,
      "metadata": {
        "nbpresent": {
          "id": "eb41b143-7ceb-475d-83e3-941bd5866cb4"
        },
        "id": "RghvZmw2kz2l",
        "outputId": "cfcf080e-a541-42cf-81d1-c7454d40e3be",
        "colab": {
          "base_uri": "https://localhost:8080/"
        }
      },
      "outputs": [
        {
          "output_type": "execute_result",
          "data": {
            "text/plain": [
              "9"
            ]
          },
          "metadata": {},
          "execution_count": 5
        }
      ],
      "source": [
        "f(3)"
      ]
    },
    {
      "cell_type": "markdown",
      "metadata": {
        "id": "U2kKyQW7kz2m"
      },
      "source": [
        "<font color=\"red\"><h1>Exercise 1</h1></font>\n",
        "\n",
        "Write a function using a `lambda` expression that computes the area of a circle with radius `r`.\n"
      ]
    },
    {
      "cell_type": "code",
      "execution_count": 6,
      "metadata": {
        "id": "Qek29IkWkz2n"
      },
      "outputs": [],
      "source": [
        "import math\n",
        "area = lambda r: math.pi*r**2"
      ]
    },
    {
      "cell_type": "code",
      "source": [
        "area(3)"
      ],
      "metadata": {
        "id": "_3RovzZjmr-j",
        "outputId": "855a27d6-cebc-48f9-bfea-883fccfb2d7a",
        "colab": {
          "base_uri": "https://localhost:8080/"
        }
      },
      "execution_count": null,
      "outputs": [
        {
          "output_type": "execute_result",
          "data": {
            "text/plain": [
              "28.274333882308138"
            ]
          },
          "metadata": {},
          "execution_count": 15
        }
      ]
    },
    {
      "cell_type": "markdown",
      "metadata": {
        "id": "_PfyXM-Dkz2r"
      },
      "source": [
        "## Lambdas with many arguments"
      ]
    },
    {
      "cell_type": "code",
      "execution_count": 7,
      "metadata": {
        "nbpresent": {
          "id": "2f7d8217-77e6-4c57-802a-ac417af24d61"
        },
        "id": "4r4t03Rfkz2s",
        "outputId": "15fcc63f-3084-4db6-b941-6bcaa103172e",
        "colab": {
          "base_uri": "https://localhost:8080/"
        }
      },
      "outputs": [
        {
          "output_type": "execute_result",
          "data": {
            "text/plain": [
              "16"
            ]
          },
          "metadata": {},
          "execution_count": 7
        }
      ],
      "source": [
        "g = lambda x, y : x**y\n",
        "g(2,4)"
      ]
    },
    {
      "cell_type": "markdown",
      "metadata": {
        "id": "Wo48FKc7kz2s"
      },
      "source": [
        "## Evaluating a 2 argument `lambda`\n",
        "\n",
        "<img src=\"https://github.com/dsteberg1/dylanstebergmodule1_lectures/blob/main/img/lambda_eval_2arg_1.png?raw=1\" width=600/>"
      ]
    },
    {
      "cell_type": "markdown",
      "metadata": {
        "id": "oiF4jWAUkz2t"
      },
      "source": [
        "## Evaluating a 2 argument `lambda`\n",
        "\n",
        "<img src=\"https://github.com/dsteberg1/dylanstebergmodule1_lectures/blob/main/img/lambda_eval_2arg_2.png?raw=1\" width=600/>"
      ]
    },
    {
      "cell_type": "markdown",
      "metadata": {
        "id": "n8oPANIqkz2t"
      },
      "source": [
        "## Evaluating a 2 argument `lambda`\n",
        "\n",
        "<img src=\"https://github.com/dsteberg1/dylanstebergmodule1_lectures/blob/main/img/lambda_eval_2arg_3.png?raw=1\" width=600/>"
      ]
    },
    {
      "cell_type": "markdown",
      "metadata": {
        "id": "n5RYe4VKkz2t"
      },
      "source": [
        "<font color=\"red\"><h1>Exercise 2</h1></font>\n",
        "\n",
        "Use a similar process to evaluate `h(1,2,3)` when\n",
        "\n",
        "```\n",
        "h = lambda x, y, z: 2*x*y+ y**2/z\n",
        "```"
      ]
    },
    {
      "cell_type": "code",
      "execution_count": 15,
      "metadata": {
        "id": "mPJmCoEHkz2u",
        "outputId": "39bfcf44-1a01-4d67-fcc8-8538e26f483e",
        "colab": {
          "base_uri": "https://localhost:8080/"
        }
      },
      "outputs": [
        {
          "output_type": "execute_result",
          "data": {
            "text/plain": [
              "5.333333333333333"
            ]
          },
          "metadata": {},
          "execution_count": 15
        }
      ],
      "source": [
        "h = lambda x, y, z: 2*x*y+ y**2/z\n",
        "h(1, 2, 3)"
      ]
    },
    {
      "cell_type": "code",
      "execution_count": 16,
      "metadata": {
        "id": "26IxCL8Jkz2v",
        "outputId": "890e5959-ea68-4610-828c-924222b4ec0b",
        "colab": {
          "base_uri": "https://localhost:8080/"
        }
      },
      "outputs": [
        {
          "output_type": "execute_result",
          "data": {
            "text/plain": [
              "5.333333333333333"
            ]
          },
          "metadata": {},
          "execution_count": 16
        }
      ],
      "source": [
        "(lambda x, y, z: 2*x*y+y**2/z)(1, 2, 3)"
      ]
    },
    {
      "cell_type": "code",
      "source": [
        "2*1*2+2**2/3"
      ],
      "metadata": {
        "id": "X4lKIMrDD5Fm",
        "outputId": "85f22630-9c78-4c06-a0ea-6975b42ca8d9",
        "colab": {
          "base_uri": "https://localhost:8080/"
        }
      },
      "execution_count": 17,
      "outputs": [
        {
          "output_type": "execute_result",
          "data": {
            "text/plain": [
              "5.333333333333333"
            ]
          },
          "metadata": {},
          "execution_count": 17
        }
      ]
    },
    {
      "cell_type": "markdown",
      "metadata": {
        "id": "FSU1pOrhkz2v"
      },
      "source": [
        "<font color=\"red\"><h1>Exercise 3</h1></font>\n",
        "\n",
        "The function `random` from the `random` module can be used to generate numbers between 0 and 1 at random. We want to return numbers between $a$ and $b$ at random, which can be accomplished using the formula $V = (b - a)*random() + a$.\n",
        "\n",
        "Write a lambda function that takes `a` and `b` as arguments are returns a number between `a` and `b` at random."
      ]
    },
    {
      "cell_type": "code",
      "execution_count": 26,
      "metadata": {
        "id": "QcWG-AqZkz2v"
      },
      "outputs": [],
      "source": [
        "from random import random"
      ]
    },
    {
      "cell_type": "code",
      "source": [
        "V = lambda a, b: (b - a) * random() + a"
      ],
      "metadata": {
        "id": "0oQYbuX1pKj7"
      },
      "execution_count": 27,
      "outputs": []
    },
    {
      "cell_type": "code",
      "source": [
        "V(a = 4, b = 5)"
      ],
      "metadata": {
        "id": "NGC72j2GpW33",
        "outputId": "be0bf937-9c99-4d45-b134-618111d25c34",
        "colab": {
          "base_uri": "https://localhost:8080/"
        }
      },
      "execution_count": 28,
      "outputs": [
        {
          "output_type": "execute_result",
          "data": {
            "text/plain": [
              "4.380648082394223"
            ]
          },
          "metadata": {},
          "execution_count": 28
        }
      ]
    }
  ],
  "metadata": {
    "anaconda-cloud": {},
    "kernelspec": {
      "display_name": "Python 3",
      "language": "python",
      "name": "python3"
    },
    "language_info": {
      "codemirror_mode": {
        "name": "ipython",
        "version": 3
      },
      "file_extension": ".py",
      "mimetype": "text/x-python",
      "name": "python",
      "nbconvert_exporter": "python",
      "pygments_lexer": "ipython3",
      "version": "3.7.2"
    },
    "nbpresent": {
      "slides": {
        "d8cfa8b7-18e5-4d2f-8e92-8164c8bfad3b": {
          "id": "d8cfa8b7-18e5-4d2f-8e92-8164c8bfad3b",
          "prev": null,
          "regions": {
            "81231d63-4899-45f2-b382-fabf4f762896": {
              "attrs": {
                "height": 0.8,
                "width": 0.45,
                "x": 0.5,
                "y": 0.1
              },
              "id": "81231d63-4899-45f2-b382-fabf4f762896"
            },
            "b40d103d-8d7f-44de-8fca-19b2f9861cdd": {
              "attrs": {
                "height": 0.8,
                "width": 0.45,
                "x": 0.05,
                "y": 0.1
              },
              "id": "b40d103d-8d7f-44de-8fca-19b2f9861cdd"
            }
          }
        }
      },
      "themes": {}
    },
    "colab": {
      "provenance": [],
      "include_colab_link": true
    }
  },
  "nbformat": 4,
  "nbformat_minor": 0
}